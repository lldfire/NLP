{
 "cells": [
  {
   "cell_type": "markdown",
   "metadata": {},
   "source": [
    "# 4.4 隐马尔可夫模型\n",
    "## 4.4.1 马尔可夫链\n",
    "指时间和状态都是离散的马尔可夫过程，该过程具有如下特性：在已知系统当前的状态条件下，他未来的演变不依赖过去的演变。即系统在状态转移的过程中，第T+1次结果只受第T次结果影响，只与当前状态有关，与过去状态（初始状态和此前转移的所有状态）无关。\n",
    "\n",
    "## 4.4.2 隐马尔可夫模型\n",
    "一个隐马尔可夫模型由两组状态集合和三组概率集合组成：\n",
    "- 隐藏状态：系统中隐含的，但真实存在的状态序列，如：一个句子中每个词的词性；\n",
    "- 状态转移矩阵：隐状态空间，一个隐状态转移到另一个状态的概率分布矩阵，如一个词性转移到另一个词性；\n",
    "- 观测状态：显示的状态序列，如句子中的每个字符或单词；\n",
    "- 初始概率（$\\pi$向量）：初始时刻观测状态到隐藏状态的矩阵，如每个句子的开头词语的词性；\n",
    "-  发射概率矩阵：观测状态到隐藏状态的概率矩阵。\n",
    "\n",
    "对于HMM来说，有如下三个重要假设：\n",
    "- 假设1:马尔可夫假设（状态构成一阶马尔库夫链）\n",
    "- 假设2:不动性假设（状态与具体时间无关）\n",
    "- 假设3:输出独立性假设（输出仅与当前状态有关）\n",
    "\n",
    "但在自然语言处理的实际情况中，每个字符都不仅仅与当前状态有关，即不符合输出独立性假设和不动性假设，这也造就了HMM算法自然语言处理中的局限性\n",
    "\n",
    "## 4.4.3 HMM实例（P172）\n",
    "- 隐藏状态集合S：{晴天，阴天，雨天}\n",
    "- 状态转移矩阵\n",
    "- viterbi 算法，删掉最不可能的路径"
   ]
  },
  {
   "cell_type": "code",
   "execution_count": 2,
   "metadata": {},
   "outputs": [],
   "source": [
    "# 实例实现如下\n",
    "import numpy as np\n",
    "from hmmlearn import hmm"
   ]
  },
  {
   "cell_type": "code",
   "execution_count": 3,
   "metadata": {},
   "outputs": [
    {
     "name": "stdout",
     "output_type": "stream",
     "text": [
      "第一天干旱时，各种天气的概率 [0.378  0.0425 0.01  ]\n",
      "第一天干旱时，最有可能的天气 0\n",
      "第二天干燥时，各种天气的概率 [0.040425   0.03770312 0.00775625]\n",
      "第二天干燥时，最有可能的天气 0\n",
      "第三天潮湿时，各种天气的概率 [0.00157887 0.00569521 0.01576309]\n",
      "第三天潮湿时，最有可能的天气 2\n"
     ]
    }
   ],
   "source": [
    "# 暴力法\n",
    "S = ('晴天', '阴天', '雨天')     # 隐藏状态集合分别代表晴天、阴天、雨天\n",
    "O = (0, 1, 3)   # 观测序列集合，分别代表干旱、干燥、湿润、潮湿\n",
    "Pi = np.array([0.63, 0.17, 0.20])     # 初始状态\n",
    "A = np.array([\n",
    "    [0.5, 0.375, 0.125],\n",
    "    [0.25, 0.125, 0.625],\n",
    "    [0.25, 0.375, 0.375]\n",
    "])   # 状态转移矩阵\n",
    "B = np.array([\n",
    "    [0.6, 0.20, 0.15, 0.05],\n",
    "    [0.25, 0.25, 0.25, 0.25],\n",
    "    [0.05, 0.10, 0.35, 0.50]\n",
    "])  # 发射矩阵\n",
    "\n",
    "# 实际观测序列：干旱-干燥-潮湿\n",
    "# 第一天的天气状况：与所有天气的初始状态有关与当天的环境适度有关\n",
    "state1 = np.multiply(Pi, B[:, 0].T)\n",
    "print('第一天干旱时，各种天气的概率', state1)\n",
    "print('第一天干旱时，最有可能的天气', state1.argmax())\n",
    "\n",
    "# 第二天的天气状况与天气的转移情况有关，与当天的环境湿度有关\n",
    "# 仍为晴天的概率：(晴天-晴天+阴天-晴天+雨天-晴天) * 干燥\n",
    "state2 = np.multiply(np.dot(state1, A).T, B[:, 1])\n",
    "print('第二天干燥时，各种天气的概率', state2.T)\n",
    "print('第二天干燥时，最有可能的天气', state2.argmax())\n",
    "\n",
    "# 第三天的天气状况与前一天的天气和当天的湿度有关\n",
    "state3 = np.multiply(np.dot(state2.T, A).T, B[:, 3])\n",
    "print('第三天潮湿时，各种天气的概率', state3.T)\n",
    "print('第三天潮湿时，最有可能的天气', state3.argmax())\n",
    "\n",
    "# 所以这三天的最可能的天气为晴天-晴天-雨天"
   ]
  },
  {
   "cell_type": "markdown",
   "metadata": {},
   "source": [
    "## 4.4.4 viterbi 算法"
   ]
  },
  {
   "cell_type": "code",
   "execution_count": 9,
   "metadata": {},
   "outputs": [],
   "source": [
    "def viterbi(obs, states, start_p, trans_p, emit_p):\n",
    "    \"\"\"\n",
    "    obs: 观测序列\n",
    "    states: 隐藏状态\n",
    "    start_p: 初始状态分布矩阵\n",
    "    trans_p: 状态转移举着\n",
    "    emit_p: 发射矩阵，由状态表现为观测序列的概率矩阵\n",
    "    \"\"\"\n",
    "    # 计算初始状态\n",
    "    # 存储各时刻的状态可能值 V[时间][隐状态] = 概率\n",
    "    V = [{}]\n",
    "    # 初始状态时的各隐状态的概率值\n",
    "    for state in states:\n",
    "        V[0][state] = start_p[state] * emit_p[state][obs[0]]\n",
    "    # 此处计算无误，在寻找最优路径时有误\n",
    "    for t in range(1, len(obs)):\n",
    "        V.append({})\n",
    "        for state in states:\n",
    "            # t 时刻各隐状态的概率 = t-1时刻状的状态last_state的概率 * last_state\n",
    "            # 转移到state的概率 * state状态下的观测值概率\n",
    "            V[t][state] = max([(V[t - 1][ls] * trans_p[ls][state] * emit_p[state][obs[t]])\n",
    "                               for ls in states])\n",
    "    \n",
    "    # 寻找最优路径错误\n",
    "    print(V)\n",
    "    result = [max(vec.items(), key=lambda x: x[1]) for vec in V]\n",
    "#     for vector in V:\n",
    "#         temp = max(vector.items(), key=lambda x: x[1])\n",
    "#         result.append(temp)\n",
    "    return result"
   ]
  },
  {
   "cell_type": "code",
   "execution_count": 5,
   "metadata": {},
   "outputs": [],
   "source": [
    "states = ('晴天', '阴天', '雨天')\n",
    "obs = ('干旱', '干燥', '潮湿')\n",
    "start_p = {'晴天': 0.63, '阴天': 0.17, '雨天': 0.20}\n",
    "trans_p = {\n",
    "    '晴天': {'晴天': 0.5, '阴天': 0.375, '雨天': 0.125},\n",
    "    '阴天': {'晴天': 0.25, '阴天': 0.125, '雨天': 0.625},\n",
    "    '雨天': {'晴天': 0.25, '阴天': 0.375, '雨天': 0.375},\n",
    "}\n",
    "# 在当前隐状态下的观测值的分布概率\n",
    "emit_p = {\n",
    "    '晴天': {'干旱': 0.60, '干燥': 0.20, '湿润': 0.15, '潮湿': 0.05},\n",
    "    '阴天': {'干旱': 0.25, '干燥': 0.25, '湿润': 0.25, '潮湿': 0.25},\n",
    "    '雨天': {'干旱': 0.05, '干燥': 0.10, '湿润': 0.35, '潮湿': 0.50}\n",
    "}"
   ]
  },
  {
   "cell_type": "code",
   "execution_count": 10,
   "metadata": {},
   "outputs": [
    {
     "name": "stdout",
     "output_type": "stream",
     "text": [
      "[{'晴天': 0.378, '阴天': 0.0425, '雨天': 0.010000000000000002}, {'晴天': 0.0378, '阴天': 0.0354375, '雨天': 0.004725}, {'晴天': 0.0009450000000000001, '阴天': 0.00354375, '雨天': 0.01107421875}]\n"
     ]
    },
    {
     "data": {
      "text/plain": [
       "[('晴天', 0.378), ('晴天', 0.0378), ('雨天', 0.01107421875)]"
      ]
     },
     "execution_count": 10,
     "metadata": {},
     "output_type": "execute_result"
    }
   ],
   "source": [
    "viterbi(obs, states, start_p, trans_p, emit_p)"
   ]
  },
  {
   "cell_type": "code",
   "execution_count": 119,
   "metadata": {},
   "outputs": [],
   "source": [
    "# 使用hmmlearn\n",
    "model = hmm.MultinomialHMM(n_components=len(states))   # 状态数量\n",
    "\n",
    "model.startprob_ = Pi    # 初始化概率矩阵\n",
    "model.transmat_ = A\n",
    "model.emissionprob_ = B"
   ]
  },
  {
   "cell_type": "code",
   "execution_count": 123,
   "metadata": {},
   "outputs": [
    {
     "name": "stdout",
     "output_type": "stream",
     "text": [
      "['晴天', '阴天', '雨天']\n"
     ]
    },
    {
     "data": {
      "text/plain": [
       "array([[0.50077599, 0.15754917, 0.34167484],\n",
       "       [0.32972547, 0.49566574, 0.17460879],\n",
       "       [0.20596986, 0.26170411, 0.53232603]])"
      ]
     },
     "execution_count": 123,
     "metadata": {},
     "output_type": "execute_result"
    }
   ],
   "source": [
    "O = (2, 1, 2)\n",
    "model.decode(np.array(O).reshape(-1, 1), algorithm='viterbi')\n",
    "t = model.predict(np.array(O).reshape(-1, 1))\n",
    "print(list(map(lambda x: S[x], t)))\n",
    "model.predict_proba(np.array(O).reshape(-1, 1))"
   ]
  },
  {
   "cell_type": "code",
   "execution_count": 15,
   "metadata": {},
   "outputs": [],
   "source": [
    "# 正确的\n",
    "def viterbit_dict(obs, states, pi_pro, A_pro, B_pro):\n",
    "    # init path: path[s] represents the path ends with s\n",
    "    path_v = [{}]\n",
    "    # 存储每个时刻的最优路径\n",
    "    path_max = {}\n",
    "\n",
    "    # 计算初始时的状态概率\n",
    "    for state in states:\n",
    "        path_v[0][state] = pi_pro[state] * B_pro[state].get(obs[0], 0)\n",
    "        path_max[state] = [state]\n",
    "\n",
    "    print(path_max)\n",
    "    # print(path_v)\n",
    "    # 计算第一个观测值之后的观测值\n",
    "    for o in range(1, len(obs)):\n",
    "        path_v.append({})\n",
    "        new_path = {}\n",
    "\n",
    "        # 每个状态到每个观测值的发射概率\n",
    "        for state in states:\n",
    "            # 最大概率和其对应的状态\n",
    "            temp_pro, temp_state = max(((path_v[o - 1][l] * A_pro[l][state] * B_pro[state].get(obs[o], 0), l) for l in states))\n",
    "            path_v[o][state] = temp_pro\n",
    "\n",
    "            new_path[state] = path_max[temp_state] + [state]\n",
    "        path_max = new_path\n",
    "        # print(path_v)\n",
    "        print(path_max)\n",
    "    best_path_pro, last_state = max((\n",
    "        path_v[len(obs) - 1][s], s) for s in states)\n",
    "    print(path_v)\n",
    "    print(last_state)\n",
    "    print('最可能的隐状态序列', path_max[last_state])\n",
    "    print(best_path_pro)"
   ]
  },
  {
   "cell_type": "code",
   "execution_count": 14,
   "metadata": {},
   "outputs": [
    {
     "name": "stdout",
     "output_type": "stream",
     "text": [
      "{'晴天': ['晴天'], '阴天': ['阴天'], '雨天': ['雨天']}\n",
      "{'晴天': ['晴天', '晴天'], '阴天': ['晴天', '阴天'], '雨天': ['晴天', '雨天']}\n",
      "{'晴天': ['晴天', '晴天', '晴天'], '阴天': ['晴天', '晴天', '阴天'], '雨天': ['晴天', '阴天', '雨天']}\n",
      "[{'晴天': 0.378, '阴天': 0.0425, '雨天': 0.010000000000000002}, {'晴天': 0.0378, '阴天': 0.0354375, '雨天': 0.004725}, {'晴天': 0.0009450000000000001, '阴天': 0.00354375, '雨天': 0.01107421875}]\n",
      "雨天\n",
      "['晴天', '阴天', '雨天']\n",
      "0.01107421875\n"
     ]
    }
   ],
   "source": [
    "viterbit_dict(obs, states, start_p, trans_p, emit_p)"
   ]
  },
  {
   "cell_type": "markdown",
   "metadata": {},
   "source": [
    "# 4.5 结构化平均感知机模型\n",
    "\n",
    "## 4.5.1 原理\n",
    "每个字都有一个标注，每个字都属于一个类别，即转化为分类问题。共有 BMES 四个类别"
   ]
  },
  {
   "cell_type": "code",
   "execution_count": null,
   "metadata": {},
   "outputs": [],
   "source": []
  },
  {
   "cell_type": "markdown",
   "metadata": {},
   "source": [
    "# 4.6 条件随机场\n",
    "## 4.6.1 随机场\n",
    "随机场包含两个要素：1. 样本空间集合；2. 单个样本空间中的随机变量集合。\n",
    "\n",
    "已有的随机场：吉布斯随机场，马尔可夫随机场，条件随机场，高斯随机场。求解一个随机场，就是要找到有多少种不同的样本空间。\n",
    "\n",
    "## 4.6.2 无向图的团与因子分解\n",
    "无向图G的某个子图S，若S中任何两个节点均有边，则S称为G的团。若C是G的一个团，并且不能再加入任何一个G的节点，使其成为团，则称C是G的最大团。\n",
    "\n",
    "对于一个无向图而言，其联合分布概率可以表示成最大团上的**随机变量函数**的乘积的形式,这个操作成为无向图的因子分解。\n",
    "\n",
    "计算无向图的联合分布概率公式如下，称为Hammersley-Clifford定理。\n",
    "$$P(Y)=\\frac{1}{Z}\\prod_C \\psi_C(Y_C)$$\n",
    "$$Z = \\sum_Y \\prod_C \\psi_C(Y_C)$$\n",
    "式中：\n",
    "\n",
    "* $C$ -- 无向图最大团；\n",
    "* $Y_C$ -- 最大团C中的样本集合；\n",
    "\n",
    "## 4.6.3 线性链条件随机场\n"
   ]
  },
  {
   "cell_type": "code",
   "execution_count": null,
   "metadata": {},
   "outputs": [],
   "source": []
  },
  {
   "cell_type": "code",
   "execution_count": null,
   "metadata": {},
   "outputs": [],
   "source": []
  }
 ],
 "metadata": {
  "kernelspec": {
   "display_name": "Python 3",
   "language": "python",
   "name": "python3"
  },
  "language_info": {
   "codemirror_mode": {
    "name": "ipython",
    "version": 3
   },
   "file_extension": ".py",
   "mimetype": "text/x-python",
   "name": "python",
   "nbconvert_exporter": "python",
   "pygments_lexer": "ipython3",
   "version": "3.7.3"
  }
 },
 "nbformat": 4,
 "nbformat_minor": 4
}
