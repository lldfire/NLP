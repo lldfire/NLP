{
 "cells": [
  {
   "cell_type": "markdown",
   "metadata": {},
   "source": [
    "# 中文分词流程\n",
    "1. 对句子进行切分，如果导入的是文章，则调用每个句子进行切分\n",
    "2. 导入相应的词典，包括：\n",
    "    - 一元语言词典模型\n",
    "    - 二元语言词典模型\n",
    "    - 人名识别词典\n",
    "    - 地名识别词典\n",
    "    - 组织机构识别词典\n",
    "3. 句子粗分\n",
    "    - 将句子进行字符级切分，切分为单个字符\n",
    "    - 一元切分。查询一元语言词典，将字符切分结果与词典进行最大匹配，形成一元词网，再构成原子词\n",
    "    - 二元切分。用一元分词的结果查询二元词典，与二元词典进行匹配，形成一个词图。\n",
    "    - NShort算法计算。按平滑算法计算二元分词的词频数得到词图中每个节点的权值\n"
   ]
  },
  {
   "cell_type": "markdown",
   "metadata": {},
   "source": [
    "### NShort算法原理\n",
    "1. 从词图中构建出节点和权重排序数组\n",
    "2. 从词图中过滤掉排序数组中权重较高的路径，根据权重较低的路径生成最终的分词结果，"
   ]
  },
  {
   "cell_type": "code",
   "execution_count": null,
   "metadata": {},
   "outputs": [],
   "source": []
  }
 ],
 "metadata": {
  "kernelspec": {
   "display_name": "Python 3.7.3 64-bit",
   "language": "python",
   "name": "python37364bitcea678e3ad824734a2a7ab41f79eaa8f"
  },
  "language_info": {
   "codemirror_mode": {
    "name": "ipython",
    "version": 3
   },
   "file_extension": ".py",
   "mimetype": "text/x-python",
   "name": "python",
   "nbconvert_exporter": "python",
   "pygments_lexer": "ipython3",
   "version": "3.7.3"
  }
 },
 "nbformat": 4,
 "nbformat_minor": 4
}
