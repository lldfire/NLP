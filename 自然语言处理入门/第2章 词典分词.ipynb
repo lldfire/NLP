{
 "cells": [
  {
   "cell_type": "markdown",
   "metadata": {},
   "source": [
    "## 2.4 字典树\n",
    "### 2.4.1 概念\n",
    "字典树的每条边对应一个字，从根结点往下的路径构成一个个字符串\n",
    "### 2.4.2 字典树实现"
   ]
  },
  {
   "cell_type": "code",
   "execution_count": 32,
   "metadata": {},
   "outputs": [],
   "source": [
    "# 自然语言处理入门(P47)\n",
    "# 字典数节点\n",
    "class Node:\n",
    "    def __init__(self, value):\n",
    "        self._children = {}\n",
    "        self._value = value\n",
    "        \n",
    "    def _add_child(self, char, value, overwrite=False):\n",
    "        # 字符作为键，子节点作为值\n",
    "        child = self._children.get(char)\n",
    "        if child is None:\n",
    "            child = Node(value)\n",
    "            self._children[char] = child\n",
    "        # 是否覆盖原有节点\n",
    "        elif overwrite:\n",
    "            child._value=value\n",
    "        return child\n",
    "\n",
    "\n",
    "    # 字典树的增删改查\n",
    "class Trie(Node):\n",
    "    def __init__(self):\n",
    "        super().__init__(None)\n",
    "    \n",
    "    def __contains__(self, key):\n",
    "        return self[key] is not None\n",
    "    \n",
    "    def __getitem__(self, key):\n",
    "        # state = 类本身\n",
    "        state = self\n",
    "        for char in key:\n",
    "            state = state._children.get(char)\n",
    "            if state is None:\n",
    "                return None\n",
    "        return state._value\n",
    "    \n",
    "    def __setitem__(self, key, value):\n",
    "        state = self\n",
    "        for i, char in enumerate(key):\n",
    "            if i < len(key) - 1:\n",
    "                state = state._add_child(char, None, False)\n",
    "            else:\n",
    "                state = state._add_child(char, value, True)"
   ]
  },
  {
   "cell_type": "code",
   "execution_count": null,
   "metadata": {},
   "outputs": [],
   "source": [
    "# https://blog.csdn.net/ANNILingMo/article/details/80879910"
   ]
  },
  {
   "cell_type": "code",
   "execution_count": 33,
   "metadata": {},
   "outputs": [
    {
     "name": "stdout",
     "output_type": "stream",
     "text": [
      "自\n",
      "None\n",
      "然\n",
      "None\n",
      "自\n",
      "<__main__.Node object at 0x10d499f60>\n",
      "然\n",
      "<__main__.Node object at 0x10d499358>\n",
      "语\n",
      "None\n",
      "言\n",
      "None\n"
     ]
    }
   ],
   "source": [
    "trie = Trie()\n",
    "# 增\n",
    "trie['自然'] = 'nature'\n",
    "trie['自然语言'] = 'nature language'\n",
    "# trie['语文'] = 'chninese'\n",
    "# trie['语文课代表'] = 'kedaibiao'\n",
    "# trie._children['']"
   ]
  },
  {
   "cell_type": "code",
   "execution_count": 3,
   "metadata": {},
   "outputs": [
    {
     "name": "stdout",
     "output_type": "stream",
     "text": [
      "<__main__.T object at 0x10d22ee48>\n"
     ]
    }
   ],
   "source": []
  },
  {
   "cell_type": "code",
   "execution_count": 14,
   "metadata": {},
   "outputs": [
    {
     "data": {
      "text/plain": [
       "'nature'"
      ]
     },
     "execution_count": 14,
     "metadata": {},
     "output_type": "execute_result"
    }
   ],
   "source": [
    "trie['自然']"
   ]
  },
  {
   "cell_type": "code",
   "execution_count": null,
   "metadata": {},
   "outputs": [],
   "source": []
  }
 ],
 "metadata": {
  "kernelspec": {
   "display_name": "Python 3",
   "language": "python",
   "name": "python3"
  },
  "language_info": {
   "codemirror_mode": {
    "name": "ipython",
    "version": 3
   },
   "file_extension": ".py",
   "mimetype": "text/x-python",
   "name": "python",
   "nbconvert_exporter": "python",
   "pygments_lexer": "ipython3",
   "version": "3.7.3"
  }
 },
 "nbformat": 4,
 "nbformat_minor": 4
}
