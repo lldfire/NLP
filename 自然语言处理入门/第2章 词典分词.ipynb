{
 "cells": [
  {
   "cell_type": "markdown",
   "metadata": {},
   "source": [
    "## 2.4 字典树\n",
    "### 2.4.1 概念\n",
    "1. 字典树的每条边对应一个字，从根结点往下的路径构成一个个字符串\n",
    "2. 性质：\n",
    "    - 根节点不包含字符，除根节点外每个节点只包含一个字符\n",
    "    - 从根节点往下的路径构成一个字符串\n",
    "    - 每个节点的所有子节点包含的字符均不同\n",
    "    \n",
    "### 2.4.2 字典树实现"
   ]
  },
  {
   "cell_type": "markdown",
   "metadata": {},
   "source": [
    "## 总结：\n",
    "1. 词典分词：构造一个词典，从词典中逐一切分句子，进行分词\n",
    "2. 关键点在于构造词典和词典查询规则\n",
    "3. 缺点在于，词典无法穷尽词语，且无法消歧"
   ]
  },
  {
   "cell_type": "code",
   "execution_count": 103,
   "metadata": {},
   "outputs": [],
   "source": [
    "# 自然语言处理入门(P47)\n",
    "# 字典数节点\n",
    "class Node:\n",
    "    def __init__(self, value):\n",
    "        self._children = dict()    # 初始化一个字典\n",
    "        self._value = value\n",
    "        \n",
    "    def _add_child(self, char, value, overwrite=False):\n",
    "        \"\"\" \n",
    "        接受char,返回子节点中该char的值，没有char \n",
    "        则创建一个新的子节点，如果存在则且重写方法为真，\n",
    "        则使用新的value充血value,如果子节点中存在char，\n",
    "        则返回子节点\n",
    "        \"\"\"\n",
    "        # 字符作为键，子节点作为值\n",
    "        child = self._children.get(char)\n",
    "        # print(child)\n",
    "        if child is None:\n",
    "            child = Node(value)\n",
    "            # print(value)\n",
    "            self._children[char] = child\n",
    "            # print(self._children)\n",
    "        # 是否覆盖原有节点\n",
    "        elif overwrite:\n",
    "            child._value=value\n",
    "        return child\n",
    "\n",
    "\n",
    "    # 字典树的增删改查\n",
    "class Trie(Node):\n",
    "    def __init__(self):\n",
    "        super().__init__(None)\n",
    "    \n",
    "    def __contains__(self, key):\n",
    "        \"\"\" 判断键是否在字典中，如果在返回True \"\"\"\n",
    "        return self[key] is not None\n",
    "    \n",
    "    def __getitem__(self, key):\n",
    "        \"\"\" 对象做P[key]运算时，就会调用类中的__getitem__()方法 \"\"\"\n",
    "        # state = 类本身\n",
    "        state = self\n",
    "        for char in key:\n",
    "            state = state._children.get(char)\n",
    "            if state is None:\n",
    "                return None\n",
    "        return state._value\n",
    "    \n",
    "    def __setitem__(self, key, value):\n",
    "        \"\"\" 字典新增键值 \"\"\"\n",
    "        state = self\n",
    "        for i, char in enumerate(key):\n",
    "            # 索引长度小于子节点时\n",
    "            if i < len(key) - 1:\n",
    "                state = state._add_child(char, None, False)\n",
    "            else:\n",
    "                state = state._add_child(char, value, True)"
   ]
  },
  {
   "cell_type": "code",
   "execution_count": 104,
   "metadata": {},
   "outputs": [
    {
     "data": {
      "text/plain": [
       "'people'"
      ]
     },
     "execution_count": 104,
     "metadata": {},
     "output_type": "execute_result"
    }
   ],
   "source": [
    "trie = Trie()\n",
    "# 增\n",
    "# trie['自然'] = 'nature'\n",
    "trie['自然人'] = 'people'\n",
    "# trie['人类'] = 'human'\n",
    "# trie['自然语言'] = 'nature language'\n",
    "# trie['语文'] = 'chninese'\n",
    "# trie['语文课代表'] = 'kedaibiao'\n",
    "trie['自然人']"
   ]
  },
  {
   "cell_type": "code",
   "execution_count": 93,
   "metadata": {},
   "outputs": [
    {
     "data": {
      "text/plain": [
       "'人'"
      ]
     },
     "execution_count": 93,
     "metadata": {},
     "output_type": "execute_result"
    }
   ],
   "source": [
    "class Test:\n",
    "    def __init__(self):\n",
    "        self.dict = {}\n",
    "    \n",
    "    def __getitem__(self, key):\n",
    "        return self.dict[key]\n",
    "    \n",
    "    def __setitem__(self, key, value):\n",
    "        self.dict[key] = value\n",
    "    "
   ]
  },
  {
   "cell_type": "code",
   "execution_count": 36,
   "metadata": {},
   "outputs": [],
   "source": [
    "# https://www.cnblogs.com/MasterMonkInTemple/p/11363415.html\n",
    "class TrieNode:\n",
    "    def __init__(self):\n",
    "        self.nodes = dict()\n",
    "        self.is_leaf = False\n",
    "    \n",
    "    def insert(self, word: str):\n",
    "        \"\"\" 插入一个词到字典树中 \"\"\"\n",
    "        curr = self\n",
    "        for char in word:\n",
    "            if char not in curr.nodes:\n",
    "                curr.nodes[char] = TrieNode()\n",
    "            curr = curr.nodes[char]\n",
    "        curr.is_leaf = True\n",
    "        \n",
    "    def search(self, word: str):\n",
    "        curr = self\n",
    "        for char in word:\n",
    "            if char not in curr.nodes:\n",
    "                return False\n",
    "            curr = curr.nodes[char]\n",
    "        return curr.is_leaf"
   ]
  },
  {
   "cell_type": "code",
   "execution_count": 55,
   "metadata": {},
   "outputs": [
    {
     "data": {
      "text/plain": [
       "{'语': <__main__.TrieNode at 0x10d4a7048>,\n",
       " '人': <__main__.TrieNode at 0x10d569518>}"
      ]
     },
     "execution_count": 55,
     "metadata": {},
     "output_type": "execute_result"
    }
   ],
   "source": [
    "tnode = TrieNode()\n",
    "tnode.insert('自然语言')\n",
    "tnode.insert('自然')\n",
    "tnode.insert('自然人')\n",
    "tnode.search('自然语言')\n",
    "tnode.nodes['自'].nodes['然'].nodes"
   ]
  },
  {
   "cell_type": "code",
   "execution_count": 1,
   "metadata": {},
   "outputs": [
    {
     "data": {
      "text/plain": [
       "6501433471512876235"
      ]
     },
     "execution_count": 1,
     "metadata": {},
     "output_type": "execute_result"
    }
   ],
   "source": []
  },
  {
   "cell_type": "code",
   "execution_count": null,
   "metadata": {},
   "outputs": [],
   "source": []
  }
 ],
 "metadata": {
  "kernelspec": {
   "display_name": "Python 3",
   "language": "python",
   "name": "python3"
  },
  "language_info": {
   "codemirror_mode": {
    "name": "ipython",
    "version": 3
   },
   "file_extension": ".py",
   "mimetype": "text/x-python",
   "name": "python",
   "nbconvert_exporter": "python",
   "pygments_lexer": "ipython3",
   "version": "3.7.3"
  }
 },
 "nbformat": 4,
 "nbformat_minor": 4
}
