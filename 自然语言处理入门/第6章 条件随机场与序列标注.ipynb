{
 "cells": [
  {
   "cell_type": "markdown",
   "metadata": {},
   "source": [
    "# 条件随机场与序列标注\n",
    "## 6.1 生成式模型与判别式模型\n",
    "### 6.1.1 区别\n",
    "1. 生成式模型：模拟数据的生成过程，根据变量的先后因果关系，求联合概率分布$p(x,y) = p(y)p(x|y)$;求出所有类别的概率，选择最大的作为预测结果\n",
    "2. 判别式模型：不关注随机变量$p(x)$,直接求条件概率$p(y|x)$,得到判别边界，从而得到预测结果\n",
    "\n",
    "### 6.1.2 算法\n",
    "1. 生成式模型：隐马尔可夫模型，朴素贝叶斯\n",
    "2. 判别式模型：感知机，条件随机场，支持向量机，神经网络"
   ]
  },
  {
   "cell_type": "code",
   "execution_count": null,
   "metadata": {},
   "outputs": [],
   "source": []
  }
 ],
 "metadata": {
  "kernelspec": {
   "display_name": "Python 3",
   "language": "python",
   "name": "python3"
  },
  "language_info": {
   "codemirror_mode": {
    "name": "ipython",
    "version": 3
   },
   "file_extension": ".py",
   "mimetype": "text/x-python",
   "name": "python",
   "nbconvert_exporter": "python",
   "pygments_lexer": "ipython3",
   "version": "3.7.3"
  }
 },
 "nbformat": 4,
 "nbformat_minor": 4
}
