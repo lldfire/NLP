{
 "cells": [
  {
   "cell_type": "markdown",
   "metadata": {},
   "source": [
    "## 序言\n",
    "1. 隐马尔可夫模型不符合语言规律，且提升隐马尔可夫模型的阶数并不能提升分词的准确率；\n",
    "2. 线性模型应运而生，线性模型由两部分组成：1.提取特征的特征函数；2.以及相应的权重向量\n",
    "\n",
    "## 5.1 分类问题\n",
    "### 5.1.1 定义\n",
    "### 5.1.2 应用\n",
    "1. 文本分类\n",
    "2. 关键词提取：判断每个单词是否属于关键词\n",
    "3. 指代小姐：代词和实体判断是否存在指代关系\n",
    "4. 语言模型：每个单词作为一个类别，给定上文预测下文要出现的单词\n",
    "\n",
    "## 5.2 线性分类模型与感知机算法\n",
    "线性模型：一条线性的直线或高维平面将数据一分为二，由特征函数$\\;\\phi\\;$，和特征权重向量$\\;\\omega\\;$组成\n",
    "### 5.2.1 特征向量与样本空间\n",
    "将样本表示为向量，描述样本特征的向量称为特征向量，构造特征向量的过程称为特征提取；提取特征的函数称为特征函数\n",
    "\n",
    "### 5.2.2 决策边界与分离超平面\n",
    "分离超平面方程，又称决策边界方程：\n",
    "$$\\sum_{i=1}^D \\omega_i x_i + b = 0$$\n",
    "使用决策边界方程进行最终决策：\n",
    "$$\\hat{y} = sign(\\omega \\cdot x)=\\lbrace_{1, \\omega \\cdot x >0}^{-1, \\omega \\cdot x \\le 0}$$\n",
    "\n",
    "### 5.2.3 感知机算法\n",
    "在训练集上运行多个迭代，每次读入一个样本，进行预测，将预测结果与正确答案对比，计算误差更新模型参数。\n",
    "- *感知机算法*\n",
    "\n",
    "    （1）读入训练样本，执行预测\n",
    "    （2）如果预测值不等于实际值，更新参数\n",
    "    \n",
    "### 5.2.5 投票感知机和平均感知机\n",
    "1. 投票感知机：将每次迭代的模型和准确率保留。预测时每个模型给出自己的结果，再乘以准确率加权平均值最为最终结果，计算和存储的开销大\n",
    "2. 平均感知机：取多个模型参数的平均，即所有迭代参数的平均值，较少内存开销，易实现\n",
    "\n",
    "## 5.3 感知机人名性别分类\n",
    "### 5.3.1 特征提取\n",
    "1. 去掉姓氏，名中的每个字都是一个特征，性别是标签，所有测试集中的每个名都是一个特征\n",
    "2. 感知算法实现\n",
    "3. 模型训练"
   ]
  },
  {
   "cell_type": "markdown",
   "metadata": {},
   "source": [
    "# hanlp 实现"
   ]
  },
  {
   "cell_type": "code",
   "execution_count": 20,
   "metadata": {},
   "outputs": [],
   "source": [
    "import os\n",
    "import zipfile\n",
    "from pyhanlp import *\n",
    "from pyhanlp.static import download, HANLP_DATA_PATH, remove_file\n",
    "# from mtests.test_utility import ensure_data  # 具体如下"
   ]
  },
  {
   "cell_type": "code",
   "execution_count": 21,
   "metadata": {},
   "outputs": [],
   "source": [
    "def test_data_path():\n",
    "    \"\"\"\n",
    "    获取测试数据路径\n",
    "    \"\"\"\n",
    "    # HANLP_DATA_PATH 为hanlp保存数据的路径\n",
    "    data_path = os.path.join(HANLP_DATA_PATH, 'test')\n",
    "    if not os.path.isdir(data_path):\n",
    "        os.mkdir(data_path)\n",
    "    return data_path\n",
    "\n",
    "\n",
    "# from test.test_utility import ensure_data\n",
    "def ensure_data(data_name, data_url):\n",
    "    \"\"\"\n",
    "    返回册书数据的存储路径\n",
    "    \"\"\"\n",
    "    root_path = test_data_path()\n",
    "    dest_path = os.path.join(root_path, data_name)\n",
    "    if os.path.exists(dest_path):\n",
    "        return dest_path\n",
    "    if data_url.endswith('.zip'):\n",
    "        dest_path += '.zip'\n",
    "    # 根据文件目录下\n",
    "    download(data_url, dest_path)\n",
    "    \n",
    "    # 解压文件，手动下载文件至目录中\n",
    "    if data_url.endswith('.zip'):\n",
    "        with zipfile.ZipFile(dest_path,'r') as archive:\n",
    "            archive.extractall(root_path)\n",
    "        remove_file(dest_path)\n",
    "        dest_path = dest_path[:len('.zip')]\n",
    "    return dest_path"
   ]
  },
  {
   "cell_type": "code",
   "execution_count": 22,
   "metadata": {},
   "outputs": [],
   "source": [
    "# 获取数据集\n",
    "cnname = ensure_data('cnname', 'http://file.hankcs.com/corpus/cnname.zip')\n",
    "TRAINING_SET = os.path.join(cnname, 'train.csv')   # 训练数据集\n",
    "TESTING_SET = os.path.join(cnname, 'test.csv')     # 测试数据集\n",
    "\n",
    "# 加载感知机分类器\n",
    "PerceptronNameGenderClassifier = JClass('com.hankcs.hanlp.model.perceptron.PerceptronNameGenderClassifier')"
   ]
  },
  {
   "cell_type": "code",
   "execution_count": 23,
   "metadata": {},
   "outputs": [],
   "source": [
    "def run_classifier(averaged_perceptron):\n",
    "    print('=====%s=====' % ('平均感知机' if averaged_perceptron else '朴素感知机'))\n",
    "    clf = PerceptronNameGenderClassifier()\n",
    "    print('训练集准确率：', clf.train(TRAINING_SET, 10, averaged_perceptron))\n",
    "    model = clf.getModel()\n",
    "    print('特征数量', len(model.parameter))\n",
    "    for name in \"赵建军\", \"沈雁冰\", \"陆雪琪\", \"李冰冰\":\n",
    "        print('%s=%s' % (name, clf.predict(name)))\n",
    "    print('测试集准确率：', clf.evaluate(TESTING_SET))\n",
    "\n",
    "run_classifier(False)\n",
    "run_classifier(True)"
   ]
  },
  {
   "cell_type": "code",
   "execution_count": 26,
   "metadata": {},
   "outputs": [
    {
     "data": {
      "text/plain": [
       "<jpype._jclass.com.hankcs.hanlp.model.perceptron.PerceptronClassifier.BinaryClassificationFMeasure at 0x7f8f9ce86080>"
      ]
     },
     "execution_count": 26,
     "metadata": {},
     "output_type": "execute_result"
    }
   ],
   "source": [
    "clf = PerceptronNameGenderClassifier()\n",
    "clf.train(TRAINING_SET, 10, False)"
   ]
  },
  {
   "cell_type": "markdown",
   "metadata": {},
   "source": [
    "## 使用sklearn中的感知机"
   ]
  },
  {
   "cell_type": "code",
   "execution_count": 28,
   "metadata": {},
   "outputs": [],
   "source": [
    "import pandas as pd\n",
    "from sklearn.linear_model import Perceptron"
   ]
  },
  {
   "cell_type": "markdown",
   "metadata": {},
   "source": [
    "# 如何进行特征提取"
   ]
  },
  {
   "cell_type": "markdown",
   "metadata": {},
   "source": [
    "## 平均感知机词性标注 "
   ]
  },
  {
   "cell_type": "code",
   "execution_count": null,
   "metadata": {},
   "outputs": [],
   "source": []
  },
  {
   "cell_type": "code",
   "execution_count": null,
   "metadata": {},
   "outputs": [],
   "source": []
  }
 ],
 "metadata": {
  "kernelspec": {
   "display_name": "Python 3",
   "language": "python",
   "name": "python3"
  },
  "language_info": {
   "codemirror_mode": {
    "name": "ipython",
    "version": 3
   },
   "file_extension": ".py",
   "mimetype": "text/x-python",
   "name": "python",
   "nbconvert_exporter": "python",
   "pygments_lexer": "ipython3",
   "version": "3.7.3"
  }
 },
 "nbformat": 4,
 "nbformat_minor": 4
}
