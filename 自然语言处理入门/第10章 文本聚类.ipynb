{
 "cells": [
  {
   "cell_type": "markdown",
   "metadata": {},
   "source": [
    "## 文档的特征提取\n",
    "- 词袋模型：将每种词语的计数等统计量表现为向量；其损失了词序中蕴含的含义\n",
    "- 词袋模型的统计指标：\n",
    "    1. 布尔词频（即one-hot编码）；--词频向量适用于主题较多的数据集\n",
    "    2. TF_IDF,词语的倒排频次；-- 适合主题较少的数据集\n",
    "    3. 词向量；-- 适用于OOV问题严重的数据集"
   ]
  },
  {
   "cell_type": "code",
   "execution_count": null,
   "metadata": {},
   "outputs": [],
   "source": []
  }
 ],
 "metadata": {
  "kernelspec": {
   "display_name": "Python 3",
   "language": "python",
   "name": "python3"
  },
  "language_info": {
   "codemirror_mode": {
    "name": "ipython",
    "version": 3
   },
   "file_extension": ".py",
   "mimetype": "text/x-python",
   "name": "python",
   "nbconvert_exporter": "python",
   "pygments_lexer": "ipython3",
   "version": "3.7.3"
  }
 },
 "nbformat": 4,
 "nbformat_minor": 4
}
