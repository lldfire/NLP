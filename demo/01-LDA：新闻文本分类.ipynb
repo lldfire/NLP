{
 "cells": [
  {
   "cell_type": "code",
   "execution_count": 50,
   "metadata": {},
   "outputs": [],
   "source": [
    "import os\n",
    "import re\n",
    "import jieba \n",
    "import lda\n",
    "import pandas as pd\n",
    "import numpy as np\n",
    "\n",
    "from collections import Counter, defaultdict"
   ]
  },
  {
   "cell_type": "code",
   "execution_count": 51,
   "metadata": {},
   "outputs": [],
   "source": [
    "# 读取数据\n",
    "data_path = '/Users/liuliangdong/project/jupyter_project/datasets/public_data/\\\n",
    "news_classfiy/train_new.csv'\n",
    "label_path = '/Users/liuliangdong/project/jupyter_project/datasets/public_data/\\\n",
    "news_classfiy/label_new.csv'\n",
    "\n",
    "datas = pd.read_csv(data_path, usecols=[1, 2], nrows=1000)\n",
    "labels = pd.read_csv(label_path, usecols=[1, 2], nrows=1000)"
   ]
  },
  {
   "cell_type": "code",
   "execution_count": 52,
   "metadata": {},
   "outputs": [],
   "source": [
    "# 1. 数据预处理，去除无关干扰信息\n",
    "def replace_letter(str_):\n",
    "    \"\"\" 正则去除英文字母 \"\"\"\n",
    "    return re.sub('[a-zA-Z]+.*[a-zA-Z]', '', str_)\n",
    "\n",
    "datas['content'] = datas.apply(lambda x: replace_letter(x[1]), axis=1)"
   ]
  },
  {
   "cell_type": "code",
   "execution_count": 53,
   "metadata": {},
   "outputs": [],
   "source": [
    "# 2. 分词并去除停用词\n",
    "with open('../stopwords/中文停用词.txt', 'r', encoding='utf-8') as f:\n",
    "    stopwords = list(map(lambda x: x.strip(), f.readlines()))\n",
    "    \n",
    "def cut_content(str_):\n",
    "    return list(filter(\n",
    "        lambda x: x not in stopwords and x.strip(),\n",
    "        jieba.lcut(str_)\n",
    "    ))\n",
    "\n",
    "datas['content'] = datas.apply(lambda x: cut_content(x[1]), axis=1)"
   ]
  },
  {
   "cell_type": "code",
   "execution_count": 54,
   "metadata": {},
   "outputs": [],
   "source": [
    "# 3. 对词语进行编号\n",
    "def encode_id(series):\n",
    "    \"\"\" 对所有词语进行统一编码 \"\"\"\n",
    "    d = defaultdict(int)\n",
    "    n = 0\n",
    "    for word_list in series:\n",
    "        for word in word_list:\n",
    "            if word not in d:\n",
    "                d[word] = n\n",
    "                n += 1\n",
    "    return d\n",
    "word_id = encode_id(datas.content)\n",
    "\n",
    "id_word = {value: key for key, value in word_id.items()}"
   ]
  },
  {
   "cell_type": "code",
   "execution_count": 55,
   "metadata": {},
   "outputs": [],
   "source": [
    "# 4. 统计词频\n",
    "def count_word(word_list):\n",
    "    word_count = Counter(word_list[1]) \n",
    "    return word_count\n",
    "\n",
    "datas['count'] = datas.apply(count_word, axis=1)"
   ]
  },
  {
   "cell_type": "code",
   "execution_count": 56,
   "metadata": {},
   "outputs": [
    {
     "data": {
      "text/html": [
       "<div>\n",
       "<style scoped>\n",
       "    .dataframe tbody tr th:only-of-type {\n",
       "        vertical-align: middle;\n",
       "    }\n",
       "\n",
       "    .dataframe tbody tr th {\n",
       "        vertical-align: top;\n",
       "    }\n",
       "\n",
       "    .dataframe thead th {\n",
       "        text-align: right;\n",
       "    }\n",
       "</style>\n",
       "<table border=\"1\" class=\"dataframe\">\n",
       "  <thead>\n",
       "    <tr style=\"text-align: right;\">\n",
       "      <th></th>\n",
       "      <th>id</th>\n",
       "      <th>count</th>\n",
       "    </tr>\n",
       "  </thead>\n",
       "  <tbody>\n",
       "    <tr>\n",
       "      <td>0</td>\n",
       "      <td>7a3dd79f90ee419da87190cff60f7a86</td>\n",
       "      <td>{'几天': 1, '有人': 1, '举报': 5, '施': 2, '贴子': 3, '...</td>\n",
       "    </tr>\n",
       "    <tr>\n",
       "      <td>1</td>\n",
       "      <td>7640a5589bc7486ca199eeeb38af79dd</td>\n",
       "      <td>{'过去': 1, '一年': 2, '江歌': 15, '悲剧': 1, '几日': 1,...</td>\n",
       "    </tr>\n",
       "  </tbody>\n",
       "</table>\n",
       "</div>"
      ],
      "text/plain": [
       "                                 id  \\\n",
       "0  7a3dd79f90ee419da87190cff60f7a86   \n",
       "1  7640a5589bc7486ca199eeeb38af79dd   \n",
       "\n",
       "                                               count  \n",
       "0  {'几天': 1, '有人': 1, '举报': 5, '施': 2, '贴子': 3, '...  \n",
       "1  {'过去': 1, '一年': 2, '江歌': 15, '悲剧': 1, '几日': 1,...  "
      ]
     },
     "execution_count": 56,
     "metadata": {},
     "output_type": "execute_result"
    }
   ],
   "source": [
    "datas.drop('content', axis=1, inplace=True)\n",
    "datas.head(2)"
   ]
  },
  {
   "cell_type": "code",
   "execution_count": 57,
   "metadata": {},
   "outputs": [],
   "source": [
    "# 5. 将文本转换为矩阵 n * m;n:文档数，m:词数\n",
    "def transform_(count_dict):\n",
    "    result = []\n",
    "    for w in word_id:\n",
    "        result.append(count_dict.get(w, 0))\n",
    "    return result"
   ]
  },
  {
   "cell_type": "code",
   "execution_count": 58,
   "metadata": {},
   "outputs": [],
   "source": [
    "X = []\n",
    "for i in range(datas.shape[0]):\n",
    "    X.append(transform_(datas['count'][i]))\n",
    "X = np.array(X)"
   ]
  },
  {
   "cell_type": "code",
   "execution_count": 59,
   "metadata": {},
   "outputs": [],
   "source": [
    "Y = np.array(labels.label)"
   ]
  },
  {
   "cell_type": "code",
   "execution_count": 78,
   "metadata": {},
   "outputs": [
    {
     "name": "stderr",
     "output_type": "stream",
     "text": [
      "INFO:lda:n_documents: 1000\n",
      "INFO:lda:vocab_size: 37808\n",
      "INFO:lda:n_words: 273591\n",
      "INFO:lda:n_topics: 50\n",
      "INFO:lda:n_iter: 2000\n",
      "WARNING:lda:all zero row in document-term matrix found\n",
      "INFO:lda:<0> log likelihood: -4079853\n",
      "INFO:lda:<10> log likelihood: -2748689\n",
      "INFO:lda:<20> log likelihood: -2645730\n",
      "INFO:lda:<30> log likelihood: -2602688\n",
      "INFO:lda:<40> log likelihood: -2577701\n",
      "INFO:lda:<50> log likelihood: -2557304\n",
      "INFO:lda:<60> log likelihood: -2543954\n",
      "INFO:lda:<70> log likelihood: -2534492\n",
      "INFO:lda:<80> log likelihood: -2525136\n",
      "INFO:lda:<90> log likelihood: -2516912\n",
      "INFO:lda:<100> log likelihood: -2509653\n",
      "INFO:lda:<110> log likelihood: -2502919\n",
      "INFO:lda:<120> log likelihood: -2498995\n",
      "INFO:lda:<130> log likelihood: -2495534\n",
      "INFO:lda:<140> log likelihood: -2491527\n",
      "INFO:lda:<150> log likelihood: -2488010\n",
      "INFO:lda:<160> log likelihood: -2485284\n",
      "INFO:lda:<170> log likelihood: -2483407\n",
      "INFO:lda:<180> log likelihood: -2481572\n",
      "INFO:lda:<190> log likelihood: -2479309\n",
      "INFO:lda:<200> log likelihood: -2477491\n",
      "INFO:lda:<210> log likelihood: -2476030\n",
      "INFO:lda:<220> log likelihood: -2475089\n",
      "INFO:lda:<230> log likelihood: -2473620\n",
      "INFO:lda:<240> log likelihood: -2471410\n",
      "INFO:lda:<250> log likelihood: -2470128\n",
      "INFO:lda:<260> log likelihood: -2468215\n",
      "INFO:lda:<270> log likelihood: -2467645\n",
      "INFO:lda:<280> log likelihood: -2467530\n",
      "INFO:lda:<290> log likelihood: -2466605\n",
      "INFO:lda:<300> log likelihood: -2464829\n",
      "INFO:lda:<310> log likelihood: -2462809\n",
      "INFO:lda:<320> log likelihood: -2462368\n",
      "INFO:lda:<330> log likelihood: -2461988\n",
      "INFO:lda:<340> log likelihood: -2461584\n",
      "INFO:lda:<350> log likelihood: -2461675\n",
      "INFO:lda:<360> log likelihood: -2460320\n",
      "INFO:lda:<370> log likelihood: -2460005\n",
      "INFO:lda:<380> log likelihood: -2460348\n",
      "INFO:lda:<390> log likelihood: -2459506\n",
      "INFO:lda:<400> log likelihood: -2460558\n",
      "INFO:lda:<410> log likelihood: -2459367\n",
      "INFO:lda:<420> log likelihood: -2458729\n",
      "INFO:lda:<430> log likelihood: -2457483\n",
      "INFO:lda:<440> log likelihood: -2458287\n",
      "INFO:lda:<450> log likelihood: -2457175\n",
      "INFO:lda:<460> log likelihood: -2457824\n",
      "INFO:lda:<470> log likelihood: -2456043\n",
      "INFO:lda:<480> log likelihood: -2456091\n",
      "INFO:lda:<490> log likelihood: -2456305\n",
      "INFO:lda:<500> log likelihood: -2456337\n",
      "INFO:lda:<510> log likelihood: -2455691\n",
      "INFO:lda:<520> log likelihood: -2455413\n",
      "INFO:lda:<530> log likelihood: -2454658\n",
      "INFO:lda:<540> log likelihood: -2455456\n",
      "INFO:lda:<550> log likelihood: -2453775\n",
      "INFO:lda:<560> log likelihood: -2454219\n",
      "INFO:lda:<570> log likelihood: -2454483\n",
      "INFO:lda:<580> log likelihood: -2454532\n",
      "INFO:lda:<590> log likelihood: -2454104\n",
      "INFO:lda:<600> log likelihood: -2453122\n",
      "INFO:lda:<610> log likelihood: -2453686\n",
      "INFO:lda:<620> log likelihood: -2452310\n",
      "INFO:lda:<630> log likelihood: -2451974\n",
      "INFO:lda:<640> log likelihood: -2452388\n",
      "INFO:lda:<650> log likelihood: -2453181\n",
      "INFO:lda:<660> log likelihood: -2454026\n",
      "INFO:lda:<670> log likelihood: -2453895\n",
      "INFO:lda:<680> log likelihood: -2452661\n",
      "INFO:lda:<690> log likelihood: -2452335\n",
      "INFO:lda:<700> log likelihood: -2453338\n",
      "INFO:lda:<710> log likelihood: -2452702\n",
      "INFO:lda:<720> log likelihood: -2453454\n",
      "INFO:lda:<730> log likelihood: -2453668\n",
      "INFO:lda:<740> log likelihood: -2451645\n",
      "INFO:lda:<750> log likelihood: -2451858\n",
      "INFO:lda:<760> log likelihood: -2452616\n",
      "INFO:lda:<770> log likelihood: -2452043\n",
      "INFO:lda:<780> log likelihood: -2452074\n",
      "INFO:lda:<790> log likelihood: -2451926\n",
      "INFO:lda:<800> log likelihood: -2452348\n",
      "INFO:lda:<810> log likelihood: -2451753\n",
      "INFO:lda:<820> log likelihood: -2451747\n",
      "INFO:lda:<830> log likelihood: -2451316\n",
      "INFO:lda:<840> log likelihood: -2452203\n",
      "INFO:lda:<850> log likelihood: -2451826\n",
      "INFO:lda:<860> log likelihood: -2450970\n",
      "INFO:lda:<870> log likelihood: -2451993\n",
      "INFO:lda:<880> log likelihood: -2450815\n",
      "INFO:lda:<890> log likelihood: -2451113\n",
      "INFO:lda:<900> log likelihood: -2450096\n",
      "INFO:lda:<910> log likelihood: -2451665\n",
      "INFO:lda:<920> log likelihood: -2451597\n",
      "INFO:lda:<930> log likelihood: -2452482\n",
      "INFO:lda:<940> log likelihood: -2452339\n",
      "INFO:lda:<950> log likelihood: -2451685\n",
      "INFO:lda:<960> log likelihood: -2450940\n",
      "INFO:lda:<970> log likelihood: -2450792\n",
      "INFO:lda:<980> log likelihood: -2451061\n",
      "INFO:lda:<990> log likelihood: -2450277\n",
      "INFO:lda:<1000> log likelihood: -2451310\n",
      "INFO:lda:<1010> log likelihood: -2451117\n",
      "INFO:lda:<1020> log likelihood: -2450947\n",
      "INFO:lda:<1030> log likelihood: -2450633\n",
      "INFO:lda:<1040> log likelihood: -2451881\n",
      "INFO:lda:<1050> log likelihood: -2450366\n",
      "INFO:lda:<1060> log likelihood: -2450852\n",
      "INFO:lda:<1070> log likelihood: -2451295\n",
      "INFO:lda:<1080> log likelihood: -2450292\n",
      "INFO:lda:<1090> log likelihood: -2449775\n",
      "INFO:lda:<1100> log likelihood: -2450493\n",
      "INFO:lda:<1110> log likelihood: -2450267\n",
      "INFO:lda:<1120> log likelihood: -2451428\n",
      "INFO:lda:<1130> log likelihood: -2451798\n",
      "INFO:lda:<1140> log likelihood: -2450279\n",
      "INFO:lda:<1150> log likelihood: -2450170\n",
      "INFO:lda:<1160> log likelihood: -2449831\n",
      "INFO:lda:<1170> log likelihood: -2450710\n",
      "INFO:lda:<1180> log likelihood: -2450260\n",
      "INFO:lda:<1190> log likelihood: -2451438\n",
      "INFO:lda:<1200> log likelihood: -2450675\n",
      "INFO:lda:<1210> log likelihood: -2449641\n",
      "INFO:lda:<1220> log likelihood: -2449009\n",
      "INFO:lda:<1230> log likelihood: -2450299\n",
      "INFO:lda:<1240> log likelihood: -2450261\n",
      "INFO:lda:<1250> log likelihood: -2450513\n",
      "INFO:lda:<1260> log likelihood: -2451211\n",
      "INFO:lda:<1270> log likelihood: -2450719\n",
      "INFO:lda:<1280> log likelihood: -2449742\n",
      "INFO:lda:<1290> log likelihood: -2450686\n",
      "INFO:lda:<1300> log likelihood: -2450860\n",
      "INFO:lda:<1310> log likelihood: -2449635\n",
      "INFO:lda:<1320> log likelihood: -2449423\n",
      "INFO:lda:<1330> log likelihood: -2449237\n",
      "INFO:lda:<1340> log likelihood: -2449325\n",
      "INFO:lda:<1350> log likelihood: -2449706\n",
      "INFO:lda:<1360> log likelihood: -2449354\n",
      "INFO:lda:<1370> log likelihood: -2450179\n",
      "INFO:lda:<1380> log likelihood: -2449070\n",
      "INFO:lda:<1390> log likelihood: -2449554\n",
      "INFO:lda:<1400> log likelihood: -2449630\n",
      "INFO:lda:<1410> log likelihood: -2449290\n",
      "INFO:lda:<1420> log likelihood: -2450199\n",
      "INFO:lda:<1430> log likelihood: -2448808\n",
      "INFO:lda:<1440> log likelihood: -2448503\n",
      "INFO:lda:<1450> log likelihood: -2448944\n",
      "INFO:lda:<1460> log likelihood: -2448090\n",
      "INFO:lda:<1470> log likelihood: -2449108\n",
      "INFO:lda:<1480> log likelihood: -2448851\n",
      "INFO:lda:<1490> log likelihood: -2448918\n",
      "INFO:lda:<1500> log likelihood: -2449033\n",
      "INFO:lda:<1510> log likelihood: -2449238\n",
      "INFO:lda:<1520> log likelihood: -2450478\n",
      "INFO:lda:<1530> log likelihood: -2449219\n",
      "INFO:lda:<1540> log likelihood: -2448893\n",
      "INFO:lda:<1550> log likelihood: -2449046\n",
      "INFO:lda:<1560> log likelihood: -2449784\n",
      "INFO:lda:<1570> log likelihood: -2448745\n",
      "INFO:lda:<1580> log likelihood: -2448959\n",
      "INFO:lda:<1590> log likelihood: -2448092\n",
      "INFO:lda:<1600> log likelihood: -2449111\n",
      "INFO:lda:<1610> log likelihood: -2448682\n",
      "INFO:lda:<1620> log likelihood: -2448396\n",
      "INFO:lda:<1630> log likelihood: -2449758\n",
      "INFO:lda:<1640> log likelihood: -2449571\n",
      "INFO:lda:<1650> log likelihood: -2449458\n",
      "INFO:lda:<1660> log likelihood: -2449555\n",
      "INFO:lda:<1670> log likelihood: -2450282\n",
      "INFO:lda:<1680> log likelihood: -2448734\n",
      "INFO:lda:<1690> log likelihood: -2449920\n",
      "INFO:lda:<1700> log likelihood: -2449471\n",
      "INFO:lda:<1710> log likelihood: -2450086\n",
      "INFO:lda:<1720> log likelihood: -2449771\n",
      "INFO:lda:<1730> log likelihood: -2448802\n",
      "INFO:lda:<1740> log likelihood: -2449236\n",
      "INFO:lda:<1750> log likelihood: -2449606\n",
      "INFO:lda:<1760> log likelihood: -2450097\n",
      "INFO:lda:<1770> log likelihood: -2449233\n",
      "INFO:lda:<1780> log likelihood: -2449181\n",
      "INFO:lda:<1790> log likelihood: -2450221\n",
      "INFO:lda:<1800> log likelihood: -2448667\n",
      "INFO:lda:<1810> log likelihood: -2448887\n",
      "INFO:lda:<1820> log likelihood: -2447939\n",
      "INFO:lda:<1830> log likelihood: -2449928\n",
      "INFO:lda:<1840> log likelihood: -2448250\n",
      "INFO:lda:<1850> log likelihood: -2450572\n",
      "INFO:lda:<1860> log likelihood: -2449842\n",
      "INFO:lda:<1870> log likelihood: -2449064\n",
      "INFO:lda:<1880> log likelihood: -2448745\n",
      "INFO:lda:<1890> log likelihood: -2448678\n",
      "INFO:lda:<1900> log likelihood: -2448603\n",
      "INFO:lda:<1910> log likelihood: -2448307\n",
      "INFO:lda:<1920> log likelihood: -2448923\n",
      "INFO:lda:<1930> log likelihood: -2448626\n",
      "INFO:lda:<1940> log likelihood: -2448687\n",
      "INFO:lda:<1950> log likelihood: -2448981\n",
      "INFO:lda:<1960> log likelihood: -2448965\n",
      "INFO:lda:<1970> log likelihood: -2448436\n",
      "INFO:lda:<1980> log likelihood: -2448450\n",
      "INFO:lda:<1990> log likelihood: -2448679\n",
      "INFO:lda:<1999> log likelihood: -2448981\n"
     ]
    },
    {
     "data": {
      "text/plain": [
       "<lda.lda.LDA at 0x11e0cfb00>"
      ]
     },
     "execution_count": 78,
     "metadata": {},
     "output_type": "execute_result"
    }
   ],
   "source": [
    "# 6. 构建模型训练数据\n",
    "model = lda.LDA(50, random_state=9)    # 生成30个主题\n",
    "model.fit(X)"
   ]
  },
  {
   "cell_type": "code",
   "execution_count": 79,
   "metadata": {},
   "outputs": [
    {
     "name": "stdout",
     "output_type": "stream",
     "text": [
      "topic-words shape (50, 37808)\n",
      "topic-1主题词： 网友 妈妈 男子 @ 事件 应该 女子 道德 视频 这位 生命 面对 一名 情绪 熊 更 站 里 小女孩 更是\n",
      "topic-2主题词： 三人 警方 南京 趙 恩 他們 赵恩 菏泽 後 祁剛 邮票 祁刚 菏澤 孙俪 樊軍傑 多年 郵票 樊军杰 1997 作案\n",
      "topic-3主题词： 机场 城市 生态 长江 景洪 成长 西双版纳 中国 铁路 烟台 飞机 乘客 航班 泰国 成都 旅游 经济带 国际 景洪市 绑架\n",
      "topic-4主题词： 记者 小区 供暖 11 公司 工作人员 居民 上午 供热 反映 今日 收费 15 安装 先生 市民 物业 了解 业主 用户\n",
      "topic-5主题词： 元 赔偿 承担 责任 被告 南昌市 上诉人 原告 被上诉人 天 费用 进贤县 一审 规定 判决 本案 公安局 精神 计算 号\n",
      "topic-6主题词： 派出所 宋某 宋 警察 烈士 英雄 笔录 王超 计恩武 没有 强奸 田晓花 提起 诉讼 身份 情况 镇安县 郭娟 妮 身份证\n",
      "topic-7主题词： 诈骗 骗 元 骗子 微信 商品 受害人 微商 朋友圈 19 16 推销 已经 警方 购买 代理商 对象 电话 联系 冒充\n",
      "topic-8主题词： 安全 事故 生产 发生 2018 责任 造成 死亡 检查 考试 工作 有限公司 公务员 人员 外卖 落实 开展 导致 现场 单位\n",
      "topic-9主题词： 规定 行为 诈骗 应当 刑法 情形 犯罪 处罚 罪 死亡 认定 具有 财物 解释 构成 伪造 诈骗罪 情节 刘 法院\n",
      "topic-10主题词： 工程 合同 施工 公司 建设 约定 工程款 承包人 当事人 工程施工 案 陈月勤 承包 旭日 建设工程 结算 价款 铁塔 没有 有限公司\n",
      "topic-11主题词： 企业 数据 造假 发展 今年 监测 环保 我家 万人 家 全国 练江 产业 污染 重点 主要 产能 2018 市场 环境监测\n",
      "topic-12主题词： 消费者 公司 元 广告 记者 商家 产品 食品 销售 购买 相关 投诉 女士 消费 店家 1000 价格 万元 进行 生产\n",
      "topic-13主题词： 关注 点击 请 来源 公众 更 阅读 信息 生活 小编 图片 原文 事 | 号 编辑 长 网友 文章 新闻\n",
      "topic-14主题词： 上海 陈旭 卢氏 王战方 副 落马 上海市 程某 书记 县委 举报 原 小梅 项目 干部 卢氏县 新 名 记者 水街\n",
      "topic-15主题词： 被告 公司 原告 法院 元 万元 人民法院 诉讼 支付 执行 判决 规定 事实 审理 未 10 主张 法律 本院 借款\n",
      "topic-16主题词： 村民 社区 土地 记者 垃圾 现场 建设 投诉 部门 劳动 街道 劳动合同 村 没有 征收 政府 万元 人员 补偿 主任\n",
      "topic-17主题词： 人民检察院 非法 枪支 因涉嫌 林某 依法 买卖 新昌县 30 提起公诉 27 天长市 批准逮捕 持有 2017 涉嫌 弹药 民警 南京市 管理\n",
      "topic-18主题词： 公司 组织 传销 平台 网络 投资 币 资金 非法 比特 会员 发展 投资人 目前 金融 ; 名 2017 涉案 欧元\n",
      "topic-19主题词： 医院 治疗 医生 医疗 记者 小叶 检查 手术 诊所 做 男博 患者 南 元 接受 媒体 百度 搜索 新 一名\n",
      "topic-20主题词： 被告人 处罚 犯罪 2017 供述 判决 判处 有期徒刑 缓刑 依法 审理 本院 应当 2018 如实 从轻 罪 处罚金 指控 规定\n",
      "topic-21主题词： 被告人 组织 张某 传销 南京市 活动 ; 领导 甲 罪 逮捕 杨某 李某 辩护人 刘某 负责 2015 家庭 雨花台区 11\n",
      "topic-22主题词： 车 一辆 车辆 开车 张某 提醒 情况 行驶 男子 不要 一定 高速 摩托车 黄 超车 会 汽车 出现 小车 尽量\n",
      "topic-23主题词： 分 积分 申请 比赛 企业 入学 政策 东莞市 超过 森林狼 近 累计 10 社保 共享 30 单车 季后赛 一场 投资\n",
      "topic-24主题词： 大桥 家具 留白 刘先生 桥墩 专家 记者 陆某 空心 台 租车 厂房 设计 承 租房 广东省 九江 刘某 杭州 部门\n",
      "topic-25主题词： 女士 胡某 游客 中国 家中 章 女性 景区 讲解 政府 孝道 旅游 门票 精子 现金 票 药酒 日本 鸿 茅\n",
      "topic-26主题词： 美国 中国 国家 俄罗斯 报道 以色列 特朗普 日本 欧盟 表示 总统 土耳其 武装 伊朗 · 逃学 地区 普京 法国 叙利亚\n",
      "topic-27主题词： 问题 处分 工作 纪委 党内 扶贫 警告 10 原 2017 国家 村 违规 征地 干部 严重 万元 资金 违反 职务\n",
      "topic-28主题词： 说 没有 做 会 没 已经 现在 知道 钱 想 里 看到 一直 找 之后 事情 告诉 当时 希望 走\n",
      "topic-29主题词： 问题 进行 情况 要求 没有 称 认为 已经 存在 表示 会 社会 是否 发现 工作 可能 目前 不能 新 相关\n",
      "topic-30主题词： 学生 学校 老师 教师 网络 家长 教育 莉莉 校园 霸凌 岁 安康 打工 校长 同学 小学 孩子 发生 女生 李某\n"
     ]
    }
   ],
   "source": [
    "# 主题词分布矩阵\n",
    "topic_word = model.topic_word_\n",
    "print('topic-words shape', topic_word.shape)\n",
    "# 查看每篇文档的最重要的前10个词\n",
    "for i in range(30):\n",
    "    max_top10 = np.argsort(topic_word[i])[-20:][::-1]\n",
    "    top_words = ' '.join(map(lambda x: id_word[x], max_top10))\n",
    "    print(f'topic-{i + 1}主题词：', top_words)"
   ]
  },
  {
   "cell_type": "code",
   "execution_count": 80,
   "metadata": {},
   "outputs": [
    {
     "name": "stdout",
     "output_type": "stream",
     "text": [
      "第1篇文档属于主题-34\n",
      "第2篇文档属于主题-39\n",
      "第3篇文档属于主题-49\n",
      "第4篇文档属于主题-17\n",
      "第5篇文档属于主题-17\n",
      "第6篇文档属于主题-17\n",
      "第7篇文档属于主题-49\n",
      "第8篇文档属于主题-22\n",
      "第9篇文档属于主题-33\n",
      "第10篇文档属于主题-3\n"
     ]
    }
   ],
   "source": [
    "# 查看每篇文档属于每个主题的概率\n",
    "doc_topics = model.doc_topic_\n",
    "# 查看前5篇文档所属主题\n",
    "for i in range(10):\n",
    "    print(f'第{i+1}篇文档属于主题-{np.argmax(doc_topics[i])}')"
   ]
  },
  {
   "cell_type": "markdown",
   "metadata": {},
   "source": [
    "## 使用kmeans对文档进行聚类,按聚类进过进行分类"
   ]
  },
  {
   "cell_type": "code",
   "execution_count": 69,
   "metadata": {},
   "outputs": [],
   "source": [
    "from sklearn.cluster import KMeans"
   ]
  },
  {
   "cell_type": "code",
   "execution_count": 72,
   "metadata": {},
   "outputs": [],
   "source": [
    "clf = KMeans(n_clusters=3, random_state=9)\n",
    "y_hat = clf.fit_predict(doc_topics)"
   ]
  },
  {
   "cell_type": "code",
   "execution_count": 81,
   "metadata": {},
   "outputs": [],
   "source": [
    "clf = KMeans(n_clusters=3, random_state=9)\n",
    "y_hat1 = clf.fit_predict(doc_topics)"
   ]
  },
  {
   "cell_type": "code",
   "execution_count": 82,
   "metadata": {},
   "outputs": [
    {
     "data": {
      "text/plain": [
       "0.576"
      ]
     },
     "execution_count": 82,
     "metadata": {},
     "output_type": "execute_result"
    }
   ],
   "source": [
    "np.mean(y_hat1 == Y)"
   ]
  },
  {
   "cell_type": "markdown",
   "metadata": {},
   "source": [
    "## 对未知数据进行分析 "
   ]
  },
  {
   "cell_type": "code",
   "execution_count": 85,
   "metadata": {},
   "outputs": [],
   "source": [
    "test_path = '/Users/liuliangdong/project/jupyter_project/datasets/public_data/\\\n",
    "news_classfiy/Test_DataSet.csv'\n",
    "test_data = pd.read_csv(test_path, nrows=100)"
   ]
  },
  {
   "cell_type": "code",
   "execution_count": null,
   "metadata": {},
   "outputs": [],
   "source": []
  },
  {
   "cell_type": "code",
   "execution_count": null,
   "metadata": {},
   "outputs": [],
   "source": []
  }
 ],
 "metadata": {
  "kernelspec": {
   "display_name": "Python 3",
   "language": "python",
   "name": "python3"
  },
  "language_info": {
   "codemirror_mode": {
    "name": "ipython",
    "version": 3
   },
   "file_extension": ".py",
   "mimetype": "text/x-python",
   "name": "python",
   "nbconvert_exporter": "python",
   "pygments_lexer": "ipython3",
   "version": "3.7.3"
  }
 },
 "nbformat": 4,
 "nbformat_minor": 4
}
