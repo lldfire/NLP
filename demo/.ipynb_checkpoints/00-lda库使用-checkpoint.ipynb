{
 "cells": [
  {
   "cell_type": "code",
   "execution_count": 1,
   "metadata": {},
   "outputs": [],
   "source": [
    "import numpy  as np\n",
    "import lda"
   ]
  },
  {
   "cell_type": "code",
   "execution_count": 5,
   "metadata": {},
   "outputs": [
    {
     "name": "stdout",
     "output_type": "stream",
     "text": [
      "文档数量395, 词语数量4258\n"
     ]
    }
   ],
   "source": [
    "# 导入测试数据\n",
    "X = lda.datasets.load_reuters()\n",
    "print('文档数量%d, 词语数量%d' % X.shape)"
   ]
  },
  {
   "cell_type": "code",
   "execution_count": 11,
   "metadata": {},
   "outputs": [
    {
     "name": "stdout",
     "output_type": "stream",
     "text": [
      "语料词语前10个： ('church', 'pope', 'years', 'people', 'mother', 'last', 'told', 'first', 'world', 'year')\n",
      "第1篇文档的标题是 0 UK: Prince Charles spearheads British royal revolution. LONDON 1996-08-20\n"
     ]
    }
   ],
   "source": [
    "# 词汇\n",
    "vocab = lda.datasets.load_reuters_vocab()\n",
    "print('语料词语前10个：', vocab[:10])\n",
    "# 标题\n",
    "title = lda.datasets.load_reuters_titles()\n",
    "print('第1篇文档的标题是', title[0])"
   ]
  },
  {
   "cell_type": "code",
   "execution_count": null,
   "metadata": {},
   "outputs": [],
   "source": [
    "# 构建模型并训练数据\n",
    "model = lda.LDA(n_topics=20, n_iter=2000, random_state=9)\n",
    "model.fit(X)"
   ]
  },
  {
   "cell_type": "code",
   "execution_count": 18,
   "metadata": {},
   "outputs": [
    {
     "data": {
      "text/plain": [
       "array([3, 0, 2, 5, 4, 1])"
      ]
     },
     "execution_count": 18,
     "metadata": {},
     "output_type": "execute_result"
    }
   ],
   "source": [
    "# np.argsort() 作用：将数组按从小到大进行排列，并返回其索引值\n",
    "a = [4, 21, 5, 1, 7, 6]\n",
    "np.argsort(a)"
   ]
  },
  {
   "cell_type": "code",
   "execution_count": 25,
   "metadata": {},
   "outputs": [
    {
     "name": "stdout",
     "output_type": "stream",
     "text": [
      "Topic 0: police miami simpson versace cunanan york home city beach\n",
      "Topic 1: pope paul trip church poland vatican catholic john visit\n",
      "Topic 2: political minister government party last president prime leader against\n",
      "Topic 3: pope vatican hospital surgery roman doctors operation appendix pontiff\n",
      "Topic 4: years church people last year world first time during\n",
      "Topic 5: against churchill sale letters bardot british former million papers\n",
      "Topic 6: mother teresa order heart charity nuns calcutta missionaries sister\n",
      "Topic 7: harriman clinton u.s ambassador churchill president paris pamela france\n",
      "Topic 8: yeltsin russian russia kremlin moscow operation president heart communist\n",
      "Topic 9: charles diana royal prince parker bowles camilla queen marriage\n",
      "Topic 10: king prince years quebec irish married died bertil day\n",
      "Topic 11: film festival poster hollywood director flynt madonna china people\n",
      "Topic 12: germany german war nazi letter jews scientology book christian\n",
      "Topic 13: city art museum century million exhibition cultural culture churches\n",
      "Topic 14: church died family funeral service former home friends buried\n",
      "Topic 15: east romania peace prize michael timor belo indonesia nobel\n",
      "Topic 16: church bernardin cardinal death cancer bishops chicago south life\n",
      "Topic 17: elvis music fans concert tour king opera rock first\n",
      "Topic 18: church n't told television catholic show saying life wright\n",
      "Topic 19: french united war country paris people states france american\n"
     ]
    }
   ],
   "source": [
    "# 查看主题-词语\n",
    "topic_word = model.topic_word_\n",
    "n_top_words = 10\n",
    "for i, topic_dist in enumerate(topic_word):\n",
    "    # 将每个主题中的所有词汇从小到大进行排列，并取出出最大的10个\n",
    "    topic_words = np.array(vocab)[np.argsort(topic_dist)][:-n_top_words:-1]\n",
    "    print('Topic {}: {}'.format(i, ' '.join(topic_words)))"
   ]
  },
  {
   "cell_type": "code",
   "execution_count": 32,
   "metadata": {},
   "outputs": [
    {
     "name": "stdout",
     "output_type": "stream",
     "text": [
      "0 UK: Prince Charles spearheads British royal revolution. LONDON 1996-08-20 (top topic: 9)\n",
      "1 GERMANY: Historic Dresden church rising from WW2 ashes. DRESDEN, Germany 1996-08-21 (top topic: 4)\n",
      "2 INDIA: Mother Teresa's condition said still unstable. CALCUTTA 1996-08-23 (top topic: 6)\n",
      "3 UK: Palace warns British weekly over Charles pictures. LONDON 1996-08-25 (top topic: 9)\n",
      "4 INDIA: Mother Teresa, slightly stronger, blesses nuns. CALCUTTA 1996-08-25 (top topic: 6)\n",
      "5 INDIA: Mother Teresa's condition unchanged, thousands pray. CALCUTTA 1996-08-25 (top topic: 6)\n",
      "6 INDIA: Mother Teresa shows signs of strength, blesses nuns. CALCUTTA 1996-08-26 (top topic: 6)\n",
      "7 INDIA: Mother Teresa's condition improves, many pray. CALCUTTA, India 1996-08-25 (top topic: 6)\n",
      "8 INDIA: Mother Teresa improves, nuns pray for \"miracle\". CALCUTTA 1996-08-26 (top topic: 6)\n",
      "9 UK: Charles under fire over prospect of Queen Camilla. LONDON 1996-08-26 (top topic: 9)\n"
     ]
    }
   ],
   "source": [
    "# 查看文档主题,其结果是一个n*k的矩阵，n 是文档数，k 是主题数\n",
    "doc_topic = model.doc_topic_\n",
    "for i in range(10):\n",
    "    # 前10篇文档，在20个主题中概率最大的是\n",
    "    print(\"{} (top topic: {})\".format(title[i], doc_topic[i].argmax()))"
   ]
  },
  {
   "cell_type": "code",
   "execution_count": null,
   "metadata": {},
   "outputs": [],
   "source": [
    "# 使用transfrom 预测更多的文章\n",
    "doc_topic_test = model.transform(X_test)"
   ]
  },
  {
   "cell_type": "markdown",
   "metadata": {},
   "source": [
    "# LDA 文档翻译\n",
    "## 作用：隐狄利克雷模型使用API\n",
    "## 用法及参数：lda.LDA(n_topics, n_iter=2000, alpha=0.1, eta=0.01, random_state=None, refresh=10)\n",
    "- n_topics:主题数量\n",
    "- n_iter: 最大迭代次数\n",
    "- alpha: 主题分布的狄利克雷参数\n",
    "- eta: 词分布的狄利克雷参数\n",
    "## 属性\n",
    "- components_：主题分布的点估计\n",
    "- topic_word_:主题-词语矩阵\n",
    "- nzw_: 在最终迭代中记录主题词分配的计数矩阵。\n",
    "- ndz_: 在最终迭代中记录文档-主题的计数矩阵\n",
    "- doc_topic_: 文档主题分布矩阵\n",
    "- nz_: 最终迭代中主题分配计数的数组。\n",
    "## 方法\n",
    "- fit(X): 训练模型\n",
    "- fit_transform(X): 训练并转换\n",
    "- loglikelihood()： 计算对数似然\n",
    "- transform(X, max_iter=20): 根据fit()拟合的模型对数据进行变换"
   ]
  },
  {
   "cell_type": "code",
   "execution_count": null,
   "metadata": {},
   "outputs": [],
   "source": []
  }
 ],
 "metadata": {
  "kernelspec": {
   "display_name": "Python 3",
   "language": "python",
   "name": "python3"
  },
  "language_info": {
   "codemirror_mode": {
    "name": "ipython",
    "version": 3
   },
   "file_extension": ".py",
   "mimetype": "text/x-python",
   "name": "python",
   "nbconvert_exporter": "python",
   "pygments_lexer": "ipython3",
   "version": "3.7.3"
  }
 },
 "nbformat": 4,
 "nbformat_minor": 4
}
