{
 "cells": [
  {
   "cell_type": "markdown",
   "metadata": {},
   "source": [
    "# 文本分类流程\n",
    "1. 对每篇文档绑定唯一ID\n",
    "2. 将ID类型转换为字符串，形成唯一ID字符出串与文档的映射关系\n",
    "3. 对文档进行分词，并去除停用词\n",
    "4. 对每篇文档词频进行统计，创建词语ID，同一个词语一个ID\n",
    "5. 将统计结果转化为三元组：（文档ID，{词语ID： 词频}）\n",
    "6. 使用LDA主题模型，计算文档属于每个主题的概率， 如：假设有50个主题，则计算每一篇文档属于每个主题的概率是多少，由此生成一个n * 50的向量，即主题分布矩阵；\n",
    "7. 使用 kmeans 算法对上一步结果进行聚类。\n"
   ]
  },
  {
   "cell_type": "markdown",
   "metadata": {},
   "source": [
    "# 文本关键词、摘要抽取，相似度分析\n",
    "## 关键词抽取算法：\n",
    "1. TF-IDF\n",
    "2. LDA 主题模型\n",
    "3. 基于Graph关键词抽取：\n",
    "    - 对一篇文档进行给定一个词距，寻找每个词语在词距范围内的关联词，由此生成Graph图，遍历图中的每个词语寻找关系最多的词语，作为关键词\n",
    " \n",
    "## 文本摘要算法\n",
    "1. 返回文本中的关键句，从原文中关键的语句返回\n",
    "2. 解析原文的主谓宾等关键词，基于语义自动生成摘要概括原文语义。\n",
    "\n",
    "## 文本相似度分析\n",
    "将文本语义向量化，通过向量距离判断文本的语义距离\n",
    "1. 文本数据源-句子拆分-语句向量化-计算语义距离"
   ]
  },
  {
   "cell_type": "code",
   "execution_count": null,
   "metadata": {},
   "outputs": [],
   "source": []
  }
 ],
 "metadata": {
  "kernelspec": {
   "display_name": "Python 3",
   "language": "python",
   "name": "python3"
  },
  "language_info": {
   "codemirror_mode": {
    "name": "ipython",
    "version": 3
   },
   "file_extension": ".py",
   "mimetype": "text/x-python",
   "name": "python",
   "nbconvert_exporter": "python",
   "pygments_lexer": "ipython3",
   "version": "3.7.3"
  }
 },
 "nbformat": 4,
 "nbformat_minor": 4
}
